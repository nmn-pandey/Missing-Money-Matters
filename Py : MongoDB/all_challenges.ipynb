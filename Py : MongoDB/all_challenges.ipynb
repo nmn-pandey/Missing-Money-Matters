{
 "cells": [
  {
   "cell_type": "markdown",
   "metadata": {},
   "source": [
    "Installing PyMongo"
   ]
  },
  {
   "cell_type": "code",
   "execution_count": 1,
   "metadata": {},
   "outputs": [
    {
     "name": "stdout",
     "output_type": "stream",
     "text": [
      "Defaulting to user installation because normal site-packages is not writeable\n",
      "Collecting pymongo\n",
      "  Downloading pymongo-4.6.1-cp39-cp39-macosx_10_9_universal2.whl (534 kB)\n",
      "\u001b[2K     \u001b[90m━━━━━━━━━━━━━━━━━━━━━━━━━━━━━━━━━━━━━━\u001b[0m \u001b[32m534.5/534.5 kB\u001b[0m \u001b[31m14.0 MB/s\u001b[0m eta \u001b[36m0:00:00\u001b[0m\n",
      "\u001b[?25hCollecting dnspython<3.0.0,>=1.16.0\n",
      "  Downloading dnspython-2.5.0-py3-none-any.whl (305 kB)\n",
      "\u001b[2K     \u001b[90m━━━━━━━━━━━━━━━━━━━━━━━━━━━━━━━━━━━━━━\u001b[0m \u001b[32m305.4/305.4 kB\u001b[0m \u001b[31m14.5 MB/s\u001b[0m eta \u001b[36m0:00:00\u001b[0m\n",
      "\u001b[?25hInstalling collected packages: dnspython, pymongo\n",
      "Successfully installed dnspython-2.5.0 pymongo-4.6.1\n",
      "\n",
      "\u001b[1m[\u001b[0m\u001b[34;49mnotice\u001b[0m\u001b[1;39;49m]\u001b[0m\u001b[39;49m A new release of pip available: \u001b[0m\u001b[31;49m22.2.2\u001b[0m\u001b[39;49m -> \u001b[0m\u001b[32;49m23.3.2\u001b[0m\n",
      "\u001b[1m[\u001b[0m\u001b[34;49mnotice\u001b[0m\u001b[1;39;49m]\u001b[0m\u001b[39;49m To update, run: \u001b[0m\u001b[32;49m/Library/Developer/CommandLineTools/usr/bin/python3 -m pip install --upgrade pip\u001b[0m\n"
     ]
    }
   ],
   "source": [
    "!pip install pymongo\n"
   ]
  },
  {
   "cell_type": "markdown",
   "metadata": {},
   "source": [
    "Connecting to MongoDB"
   ]
  },
  {
   "cell_type": "code",
   "execution_count": 2,
   "metadata": {},
   "outputs": [],
   "source": [
    "from pymongo import MongoClient\n",
    "from datetime import datetime\n",
    "\n",
    "# Connect to the MongoDB client (replace with your connection URI if not local)\n",
    "client = MongoClient(\"mongodb://localhost:27017/\")\n",
    "\n",
    "# Select the database and collection\n",
    "db = client[\"WSDA_Music\"]\n",
    "invoice_collection = db[\"Invoice\"]"
   ]
  },
  {
   "cell_type": "markdown",
   "metadata": {},
   "source": [
    "## Challenge 1\n",
    "\n",
    "General queries that begin to give you some high-level context."
   ]
  },
  {
   "cell_type": "markdown",
   "metadata": {},
   "source": [
    "### Q1. How many transactions took place between the years 2011 and 2012?"
   ]
  },
  {
   "cell_type": "code",
   "execution_count": 16,
   "metadata": {},
   "outputs": [
    {
     "name": "stdout",
     "output_type": "stream",
     "text": [
      "167 Transactions took place between 2011 and 2012\n"
     ]
    }
   ],
   "source": [
    "# Define the date range in the string format\n",
    "start_date = '2011-01-01 00:00:00'\n",
    "end_date = '2012-12-31 23:59:59'\n",
    "\n",
    "# Query to count number of documents/records\n",
    "number_of_transactions = invoice_collection.count_documents({\n",
    "    \"InvoiceDate\": {\n",
    "        \"$gte\": start_date,\n",
    "        \"$lte\": end_date\n",
    "    }\n",
    "})\n",
    "\n",
    "# Print number of transactions\n",
    "print(f\"{number_of_transactions} Transactions took place between 2011 and 2012\")"
   ]
  },
  {
   "cell_type": "markdown",
   "metadata": {},
   "source": [
    "### Q2. How much money did WSDA Music make during the same period?"
   ]
  },
  {
   "cell_type": "code",
   "execution_count": 33,
   "metadata": {},
   "outputs": [
    {
     "name": "stdout",
     "output_type": "stream",
     "text": [
      "Total Sales made between 2011 and 2012 is 1947.97\n"
     ]
    }
   ],
   "source": [
    "# Define the date range in the string format\n",
    "start_date = '2011-01-01 00:00:00'\n",
    "end_date = '2012-12-31 23:59:59'\n",
    "\n",
    "# Aggregation pipeline to filter and sum total sales\n",
    "pipeline = [\n",
    "    {\n",
    "        \"$match\": {\n",
    "            \"InvoiceDate\" : {\n",
    "                \"$gte\": start_date,\n",
    "                \"$lte\": end_date\n",
    "            }\n",
    "        }\n",
    "    },\n",
    "    {\n",
    "        \"$group\": {\n",
    "            \"_id\": None,\n",
    "            \"Total Sales\": { \"$sum\" : \"$Total\"}\n",
    "        }\n",
    "    }\n",
    "]\n",
    "# Execute the aggregation pipeline on the 'invoice_collection' and convert the result to a list.\n",
    "# The aggregation pipeline is stored in the 'pipeline' variable and is designed to filter documents by date and sum their sales.\n",
    "total_sales_list = list(invoice_collection.aggregate(pipeline))\n",
    "\n",
    "# Extract the total sales amount from the first element of the 'total_sales_list'.\n",
    "total_sales = total_sales_list[0]['Total Sales']\n",
    "\n",
    "print(\"Total Sales made between 2011 and 2012 is\", total_sales)\n"
   ]
  },
  {
   "cell_type": "markdown",
   "metadata": {},
   "source": [
    "## Challenge 2"
   ]
  },
  {
   "cell_type": "markdown",
   "metadata": {},
   "source": [
    "### Q1. How many transactions took place between the years 2011 and 2012?"
   ]
  },
  {
   "cell_type": "code",
   "execution_count": 3,
   "metadata": {},
   "outputs": [
    {
     "name": "stdout",
     "output_type": "stream",
     "text": [
      "{'_id': {'FirstName': 'Aaron', 'LastName': 'Mitchell', 'City': 'Winnipeg', 'State': 'MB'}, 'Email': 'aaronmitchell@yahoo.ca', 'Address': '696 Osborne Street'}\n",
      "{'_id': {'FirstName': 'Alexandre', 'LastName': 'Rocha', 'City': 'São Paulo', 'State': 'SP'}, 'Email': 'alero@uol.com.br', 'Address': 'Av. Paulista, 2022'}\n",
      "{'_id': {'FirstName': 'Astrid', 'LastName': 'Gruber', 'City': 'Vienne'}, 'Email': 'astrid.gruber@apple.at', 'Address': 'Rotenturmstraße 4, 1010 Innere Stadt'}\n",
      "{'_id': {'FirstName': 'Bjørn', 'LastName': 'Hansen', 'City': 'Oslo'}, 'Email': 'bjorn.hansen@yahoo.no', 'Address': 'Ullevålsveien 14'}\n",
      "{'_id': {'FirstName': 'Camille', 'LastName': 'Bernard', 'City': 'Paris'}, 'Email': 'camille.bernard@yahoo.fr', 'Address': '4, Rue Milton'}\n",
      "{'_id': {'FirstName': 'Daan', 'LastName': 'Peeters', 'City': 'Brussels'}, 'Email': 'daan_peeters@apple.be', 'Address': 'Grétrystraat 63'}\n",
      "{'_id': {'FirstName': 'Dan', 'LastName': 'Miller', 'City': 'Mountain View', 'State': 'CA'}, 'Email': 'dmiller@comcast.com', 'Address': '541 Del Medio Avenue'}\n",
      "{'_id': {'FirstName': 'Diego', 'LastName': 'Gutiérrez', 'City': 'Buenos Aires'}, 'Email': 'diego.gutierrez@yahoo.ar', 'Address': '307 Macacha Güemes'}\n",
      "{'_id': {'FirstName': 'Dominique', 'LastName': 'Lefebvre', 'City': 'Paris'}, 'Email': 'dominiquelefebvre@gmail.com', 'Address': '8, Rue Hanovre'}\n",
      "{'_id': {'FirstName': 'Eduardo', 'LastName': 'Martins', 'City': 'São Paulo', 'State': 'SP'}, 'Email': 'eduardo@woodstock.com.br', 'Address': 'Rua Dr. Falcão Filho, 155'}\n",
      "{'_id': {'FirstName': 'Edward', 'LastName': 'Francis', 'City': 'Ottawa', 'State': 'ON'}, 'Email': 'edfrancis@yachoo.ca', 'Address': '230 Elgin Street'}\n",
      "{'_id': {'FirstName': 'Ellie', 'LastName': 'Sullivan', 'City': 'Yellowknife', 'State': 'NT'}, 'Email': 'ellie.sullivan@shaw.ca', 'Address': '5112 48 Street'}\n",
      "{'_id': {'FirstName': 'Emma', 'LastName': 'Jones', 'City': 'London'}, 'Email': 'emma_jones@hotmail.com', 'Address': '202 Hoxton Street'}\n",
      "{'_id': {'FirstName': 'Enrique', 'LastName': 'Muñoz', 'City': 'Madrid'}, 'Email': 'enrique_munoz@yahoo.es', 'Address': 'C/ San Bernardo 85'}\n",
      "{'_id': {'FirstName': 'Fernanda', 'LastName': 'Ramos', 'City': 'Brasília', 'State': 'DF'}, 'Email': 'fernadaramos4@uol.com.br', 'Address': 'Qe 7 Bloco G'}\n",
      "{'_id': {'FirstName': 'Frank', 'LastName': 'Harris', 'City': 'Mountain View', 'State': 'CA'}, 'Email': 'fharris@google.com', 'Address': '1600 Amphitheatre Parkway'}\n",
      "{'_id': {'FirstName': 'Frank', 'LastName': 'Ralston', 'City': 'Chicago', 'State': 'IL'}, 'Email': 'fralston@gmail.com', 'Address': '162 E Superior Street'}\n",
      "{'_id': {'FirstName': 'František', 'LastName': 'Wichterlová', 'City': 'Prague'}, 'Email': 'frantisekw@jetbrains.com', 'Address': 'Klanova 9/506'}\n",
      "{'_id': {'FirstName': 'François', 'LastName': 'Tremblay', 'City': 'Montréal', 'State': 'QC'}, 'Email': 'ftremblay@gmail.com', 'Address': '1498 rue Bélanger'}\n",
      "{'_id': {'FirstName': 'Fynn', 'LastName': 'Zimmermann', 'City': 'Frankfurt'}, 'Email': 'fzimmermann@yahoo.de', 'Address': 'Berger Straße 10'}\n",
      "{'_id': {'FirstName': 'Hannah', 'LastName': 'Schneider', 'City': 'Berlin'}, 'Email': 'hannah.schneider@yahoo.de', 'Address': 'Tauentzienstraße 8'}\n",
      "{'_id': {'FirstName': 'Heather', 'LastName': 'Leacock', 'City': 'Orlando', 'State': 'FL'}, 'Email': 'hleacock@gmail.com', 'Address': '120 S Orange Ave'}\n",
      "{'_id': {'FirstName': 'Helena', 'LastName': 'Holý', 'City': 'Prague'}, 'Email': 'hholy@gmail.com', 'Address': 'Rilská 3174/6'}\n",
      "{'_id': {'FirstName': 'Hugh', 'LastName': \"O'Reilly\", 'City': 'Dublin', 'State': 'Dublin'}, 'Email': 'hughoreilly@apple.ie', 'Address': '3 Chatham Street'}\n",
      "{'_id': {'FirstName': 'Isabelle', 'LastName': 'Mercier', 'City': 'Dijon'}, 'Email': 'isabelle_mercier@apple.fr', 'Address': '68, Rue Jouvence'}\n",
      "{'_id': {'FirstName': 'Jack', 'LastName': 'Smith', 'City': 'Redmond', 'State': 'WA'}, 'Email': 'jacksmith@microsoft.com', 'Address': '1 Microsoft Way'}\n",
      "{'_id': {'FirstName': 'Jennifer', 'LastName': 'Peterson', 'City': 'Vancouver', 'State': 'BC'}, 'Email': 'jenniferp@rogers.ca', 'Address': '700 W Pender Street'}\n",
      "{'_id': {'FirstName': 'Joakim', 'LastName': 'Johansson', 'City': 'Stockholm'}, 'Email': 'joakim.johansson@yahoo.se', 'Address': 'Celsiusg. 9'}\n",
      "{'_id': {'FirstName': 'Johannes', 'LastName': 'Van der Berg', 'City': 'Amsterdam', 'State': 'VV'}, 'Email': 'johavanderberg@yahoo.nl', 'Address': 'Lijnbaansgracht 120bg'}\n",
      "{'_id': {'FirstName': 'John', 'LastName': 'Gordon', 'City': 'Boston', 'State': 'MA'}, 'Email': 'johngordon22@yahoo.com', 'Address': '69 Salem Street'}\n",
      "{'_id': {'FirstName': 'John', 'LastName': 'Doeein'}, 'Email': None, 'Address': None}\n",
      "{'_id': {'FirstName': 'João', 'LastName': 'Fernandes', 'City': 'Lisbon'}, 'Email': 'jfernandes@yahoo.pt', 'Address': 'Rua da Assunção 53'}\n",
      "{'_id': {'FirstName': 'Julia', 'LastName': 'Barnett', 'City': 'Salt Lake City', 'State': 'UT'}, 'Email': 'jubarnett@gmail.com', 'Address': '302 S 700 E'}\n",
      "{'_id': {'FirstName': 'Kara', 'LastName': 'Nielsen', 'City': 'Copenhagen'}, 'Email': 'kara.nielsen@jubii.dk', 'Address': 'Sønder Boulevard 51'}\n",
      "{'_id': {'FirstName': 'Kathy', 'LastName': 'Chase', 'City': 'Reno', 'State': 'NV'}, 'Email': 'kachase@hotmail.com', 'Address': '801 W 4th Street'}\n",
      "{'_id': {'FirstName': 'Ladislav', 'LastName': 'Kovács', 'City': 'Budapest'}, 'Email': 'ladislav_kovacs@apple.hu', 'Address': 'Erzsébet krt. 58.'}\n",
      "{'_id': {'FirstName': 'Leonie', 'LastName': 'Köhler', 'City': 'Stuttgart'}, 'Email': 'leonekohler@surfeu.de', 'Address': 'Theodor-Heuss-Straße 34'}\n",
      "{'_id': {'FirstName': 'Lucas', 'LastName': 'Mancini', 'City': 'Rome', 'State': 'RM'}, 'Email': 'lucas.mancini@yahoo.it', 'Address': 'Via Degli Scipioni, 43'}\n",
      "{'_id': {'FirstName': 'Luis', 'LastName': 'Rojas', 'City': 'Santiago'}, 'Email': 'luisrojas@yahoo.cl', 'Address': 'Calle Lira, 198'}\n",
      "{'_id': {'FirstName': 'Luís', 'LastName': 'Gonçalves', 'City': 'São José dos Campos', 'State': 'SP'}, 'Email': 'luisg@embraer.com.br', 'Address': 'Av. Brigadeiro Faria Lima, 2170'}\n",
      "{'_id': {'FirstName': 'Madalena', 'LastName': 'Sampaio', 'City': 'Porto'}, 'Email': 'masampaio@sapo.pt', 'Address': 'Rua dos Campeões Europeus de Viena, 4350'}\n",
      "{'_id': {'FirstName': 'Manoj', 'LastName': 'Pareek', 'City': 'Delhi'}, 'Email': 'manoj.pareek@rediff.com', 'Address': '12,Community Centre'}\n",
      "{'_id': {'FirstName': 'Marc', 'LastName': 'Dubois', 'City': 'Lyon'}, 'Email': 'marc.dubois@hotmail.com', 'Address': '11, Place Bellecour'}\n",
      "{'_id': {'FirstName': 'Mark', 'LastName': 'Philips', 'City': 'Edmonton', 'State': 'AB'}, 'Email': 'mphilips12@shaw.ca', 'Address': '8210 111 ST NW'}\n",
      "{'_id': {'FirstName': 'Mark', 'LastName': 'Taylor', 'City': 'Sidney', 'State': 'NSW'}, 'Email': 'mark.taylor@yahoo.au', 'Address': '421 Bourke Street'}\n",
      "{'_id': {'FirstName': 'Martha', 'LastName': 'Silk', 'City': 'Halifax', 'State': 'NS'}, 'Email': 'marthasilk@gmail.com', 'Address': '194A Chain Lake Drive'}\n",
      "{'_id': {'FirstName': 'Michelle', 'LastName': 'Brooks', 'City': 'New York', 'State': 'NY'}, 'Email': 'michelleb@aol.com', 'Address': '627 Broadway'}\n",
      "{'_id': {'FirstName': 'Niklas', 'LastName': 'Schröder', 'City': 'Berlin'}, 'Email': 'nschroder@surfeu.de', 'Address': 'Barbarossastraße 19'}\n",
      "{'_id': {'FirstName': 'Patrick', 'LastName': 'Gray', 'City': 'Tucson', 'State': 'AZ'}, 'Email': 'patrick.gray@aol.com', 'Address': '1033 N Park Ave'}\n",
      "{'_id': {'FirstName': 'Phil', 'LastName': 'Hughes', 'City': 'London'}, 'Email': 'phil.hughes@gmail.com', 'Address': '113 Lupus St'}\n",
      "{'_id': {'FirstName': 'Puja', 'LastName': 'Srivastava', 'City': 'Bangalore'}, 'Email': 'puja_srivastava@yahoo.in', 'Address': '3,Raj Bhavan Road'}\n",
      "{'_id': {'FirstName': 'Richard', 'LastName': 'Cunningham', 'City': 'Fort Worth', 'State': 'TX'}, 'Email': 'ricunningham@hotmail.com', 'Address': '2211 W Berry Street'}\n",
      "{'_id': {'FirstName': 'Robert', 'LastName': 'Brown', 'City': 'Toronto', 'State': 'ON'}, 'Email': 'robbrown@shaw.ca', 'Address': '796 Dundas Street West'}\n",
      "{'_id': {'FirstName': 'Roberto', 'LastName': 'Almeida', 'City': 'Rio de Janeiro', 'State': 'RJ'}, 'Email': 'roberto.almeida@riotur.gov.br', 'Address': 'Praça Pio X, 119'}\n",
      "{'_id': {'FirstName': 'Stanisław', 'LastName': 'Wójcik', 'City': 'Warsaw'}, 'Email': 'stanisław.wójcik@wp.pl', 'Address': 'Ordynacka 10'}\n",
      "{'_id': {'FirstName': 'Steve', 'LastName': 'Murray', 'City': 'Edinburgh '}, 'Email': 'steve.murray@yahoo.uk', 'Address': '110 Raeburn Pl'}\n",
      "{'_id': {'FirstName': 'Terhi', 'LastName': 'Hämäläinen', 'City': 'Helsinki'}, 'Email': 'terhi.hamalainen@apple.fi', 'Address': 'Porthaninkatu 9'}\n",
      "{'_id': {'FirstName': 'Tim', 'LastName': 'Goyer', 'City': 'Cupertino', 'State': 'CA'}, 'Email': 'tgoyer@apple.com', 'Address': '1 Infinite Loop'}\n",
      "{'_id': {'FirstName': 'Victor', 'LastName': 'Stevens', 'City': 'Madison', 'State': 'WI'}, 'Email': 'vstevens@yahoo.com', 'Address': '319 N. Frances Street'}\n",
      "{'_id': {'FirstName': 'Wyatt', 'LastName': 'Girard', 'City': 'Bordeaux'}, 'Email': 'wyatt.girard@yahoo.fr', 'Address': '9, Place Louis Barthou'}\n"
     ]
    }
   ],
   "source": [
    "# Define the date range in the string format\n",
    "start_date = '2011-01-01 00:00:00'\n",
    "end_date = '2012-12-31 23:59:59'\n",
    "\n",
    "# Aggregation pipeline\n",
    "pipeline = [\n",
    "    {\n",
    "        \"$lookup\": {\n",
    "            \"from\": \"Customer\",\n",
    "            \"localField\": \"CustomerId\",\n",
    "            \"foreignField\": \"CustomerId\",\n",
    "            \"as\": \"customerDetails\"\n",
    "        }\n",
    "    },\n",
    "    {\n",
    "        \"$unwind\": \"$customerDetails\"\n",
    "    },\n",
    "    {\n",
    "        \"$match\": {\n",
    "            \"InvoiceDate\": {\n",
    "                \"$gte\": start_date,\n",
    "                \"$lte\": end_date\n",
    "            }\n",
    "        }\n",
    "    },\n",
    "    {\n",
    "        \"$group\": {\n",
    "            \"_id\": {\n",
    "                \"FirstName\": \"$customerDetails.FirstName\",\n",
    "                \"LastName\": \"$customerDetails.LastName\",\n",
    "                \"City\": \"$customerDetails.City\",\n",
    "                \"State\": \"$customerDetails.State\"\n",
    "            },\n",
    "            \"Email\": {\"$first\": \"$customerDetails.Email\"},\n",
    "            \"Address\": {\"$first\": \"$customerDetails.Address\"}\n",
    "        }\n",
    "    },\n",
    "    {\n",
    "        \"$sort\": {\"_id.FirstName\": 1}\n",
    "    }\n",
    "]\n",
    "\n",
    "# Execute the aggregation pipeline\n",
    "customers = list(db.Invoice.aggregate(pipeline))\n",
    "\n",
    "# Print the results\n",
    "for customer in customers:\n",
    "    print(customer)"
   ]
  }
 ],
 "metadata": {
  "kernelspec": {
   "display_name": "Python 3",
   "language": "python",
   "name": "python3"
  },
  "language_info": {
   "codemirror_mode": {
    "name": "ipython",
    "version": 3
   },
   "file_extension": ".py",
   "mimetype": "text/x-python",
   "name": "python",
   "nbconvert_exporter": "python",
   "pygments_lexer": "ipython3",
   "version": "3.9.6"
  }
 },
 "nbformat": 4,
 "nbformat_minor": 2
}
